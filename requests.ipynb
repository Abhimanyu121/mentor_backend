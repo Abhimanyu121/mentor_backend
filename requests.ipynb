{
 "cells": [
  {
   "cell_type": "code",
   "execution_count": 38,
   "metadata": {},
   "outputs": [],
   "source": [
    "import requests"
   ]
  },
  {
   "cell_type": "code",
   "execution_count": 41,
   "metadata": {},
   "outputs": [],
   "source": [
    "r = requests.post(\"http://127.0.0.1:5000/register\", data={\"email\":\"abhi\",\"password\":\"root\",\"name\":\"qwerty\",\"location\":\"qwerty\",\"gender\":\"male\",\"interest\":\"qwerty\",\"college\":\"qwerty\"})"
   ]
  },
  {
   "cell_type": "code",
   "execution_count": 42,
   "metadata": {},
   "outputs": [
    {
     "name": "stdout",
     "output_type": "stream",
     "text": [
      "200 OK\n"
     ]
    }
   ],
   "source": [
    "print(r.status_code, r.reason)"
   ]
  },
  {
   "cell_type": "code",
   "execution_count": 43,
   "metadata": {},
   "outputs": [],
   "source": [
    "r= requests.get(\"http://127.0.0.1:5000/profile\", data={\"email\":\"abc\",\"password\":\"root\"})"
   ]
  },
  {
   "cell_type": "code",
   "execution_count": 44,
   "metadata": {},
   "outputs": [
    {
     "name": "stdout",
     "output_type": "stream",
     "text": [
      "200 OK b'{\\n  \"college\": \"qwerty\", \\n  \"email\": \"abc\", \\n  \"gender\": \"male\", \\n  \"interest\": \"qwerty\", \\n  \"location\": \"qwerty\", \\n  \"name\": \"qwerty\"\\n}\\n'\n"
     ]
    }
   ],
   "source": [
    "print(r.status_code, r.reason, r.content)"
   ]
  },
  {
   "cell_type": "code",
   "execution_count": 45,
   "metadata": {},
   "outputs": [],
   "source": [
    "r= requests.get(\"http://127.0.0.1:5000/login\", data={\"email\":\"abc\",\"password\":\"root\"})"
   ]
  },
  {
   "cell_type": "code",
   "execution_count": 46,
   "metadata": {},
   "outputs": [
    {
     "name": "stdout",
     "output_type": "stream",
     "text": [
      "200 OK b'True'\n"
     ]
    }
   ],
   "source": [
    "print(r.status_code, r.reason, r.content)"
   ]
  },
  {
   "cell_type": "code",
   "execution_count": 47,
   "metadata": {},
   "outputs": [],
   "source": [
    "r = requests.post(\"http://127.0.0.1:5000/add_topics\", data={\"email\":\"abc\",\"password\":\"root\",\"topic_name\":\"dart\"})"
   ]
  },
  {
   "cell_type": "code",
   "execution_count": 48,
   "metadata": {},
   "outputs": [
    {
     "name": "stdout",
     "output_type": "stream",
     "text": [
      "200 OK b'True'\n"
     ]
    }
   ],
   "source": [
    "print(r.status_code, r.reason, r.content)"
   ]
  },
  {
   "cell_type": "code",
   "execution_count": 53,
   "metadata": {},
   "outputs": [],
   "source": [
    "r = requests.post(\"http://127.0.0.1:5000/add_mentor\", data={\"email\":\"abhi\",\"password\":\"root\",\"topic_name\":\"flask\"})"
   ]
  },
  {
   "cell_type": "code",
   "execution_count": 54,
   "metadata": {},
   "outputs": [
    {
     "name": "stdout",
     "output_type": "stream",
     "text": [
      "200 OK b'True'\n"
     ]
    }
   ],
   "source": [
    "print(r.status_code, r.reason, r.content)"
   ]
  },
  {
   "cell_type": "code",
   "execution_count": 73,
   "metadata": {},
   "outputs": [],
   "source": [
    "r = requests.post(\"http://127.0.0.1:5000/enroll\", data={\"email\":\"abc\",\"password\":\"root\",\"topic_name\":\"flask\",\"mentor\":\"abhi\"})"
   ]
  },
  {
   "cell_type": "code",
   "execution_count": 74,
   "metadata": {},
   "outputs": [
    {
     "name": "stdout",
     "output_type": "stream",
     "text": [
      "200 OK b'Ture'\n"
     ]
    }
   ],
   "source": [
    "print(r.status_code, r.reason, r.content)"
   ]
  },
  {
   "cell_type": "code",
   "execution_count": 75,
   "metadata": {},
   "outputs": [],
   "source": [
    "r = requests.post(\"http://127.0.0.1:5000/add_timeline\", data={\"email\":\"abhi\",\"password\":\"root\",\"topic_name\":\"flask\",\"day\":\"day1\",\"goal\":\"qwerty\"})"
   ]
  },
  {
   "cell_type": "code",
   "execution_count": 76,
   "metadata": {},
   "outputs": [
    {
     "name": "stdout",
     "output_type": "stream",
     "text": [
      "200 OK b'True'\n"
     ]
    }
   ],
   "source": [
    "print(r.status_code, r.reason, r.content)"
   ]
  },
  {
   "cell_type": "code",
   "execution_count": 77,
   "metadata": {},
   "outputs": [],
   "source": [
    "r= requests.get(\"http://127.0.0.1:5000/get_topics\", data={\"email\":\"abhi\",\"password\":\"root\"})"
   ]
  },
  {
   "cell_type": "code",
   "execution_count": 78,
   "metadata": {},
   "outputs": [
    {
     "name": "stdout",
     "output_type": "stream",
     "text": [
      "200 OK b'{\\n  \"0\": \"dart\"\\n}\\n'\n"
     ]
    }
   ],
   "source": [
    "print(r.status_code, r.reason, r.content)"
   ]
  },
  {
   "cell_type": "code",
   "execution_count": 116,
   "metadata": {},
   "outputs": [],
   "source": [
    "r= requests.get(\"http://127.0.0.1:5000/get_mentor_details\", data={\"email\":\"abhi\",\"password\":\"root\",\"mentor\":\"abhi\"})"
   ]
  },
  {
   "cell_type": "code",
   "execution_count": 117,
   "metadata": {},
   "outputs": [
    {
     "name": "stdout",
     "output_type": "stream",
     "text": [
      "200 OK b'{\\n  \"0\": {\\n    \"mentee\": \"abc\", \\n    \"status\": \"4\", \\n    \"topic\": \"flask\"\\n  }\\n}\\n'\n"
     ]
    }
   ],
   "source": [
    "print(r.status_code, r.reason, r.content)"
   ]
  },
  {
   "cell_type": "code",
   "execution_count": 83,
   "metadata": {},
   "outputs": [],
   "source": [
    "r= requests.get(\"http://127.0.0.1:5000/get_mentee_details\", data={\"email\":\"abc\",\"password\":\"root\"})"
   ]
  },
  {
   "cell_type": "code",
   "execution_count": 84,
   "metadata": {},
   "outputs": [
    {
     "name": "stdout",
     "output_type": "stream",
     "text": [
      "200 OK b'{\\n  \"0\": {\\n    \"mentee\": \"abji\", \\n    \"status\": \"1\", \\n    \"topic\": \"flask\"\\n  }, \\n  \"1\": {\\n    \"mentee\": \"abhi\", \\n    \"status\": \"1\", \\n    \"topic\": \"flask\"\\n  }\\n}\\n'\n"
     ]
    }
   ],
   "source": [
    "print(r.status_code, r.reason, r.content)"
   ]
  },
  {
   "cell_type": "code",
   "execution_count": 85,
   "metadata": {},
   "outputs": [],
   "source": [
    "r= requests.get(\"http://127.0.0.1:5000/get_timeline\", data={\"email\":\"abc\",\"password\":\"root\",\"topic_name\":\"flask\",\"mentor\":\"abc\"})"
   ]
  },
  {
   "cell_type": "code",
   "execution_count": 85,
   "metadata": {},
   "outputs": [
    {
     "name": "stdout",
     "output_type": "stream",
     "text": [
      "200 OK b'{\\n  \"0\": {\\n    \"mentee\": \"abji\", \\n    \"status\": \"1\", \\n    \"topic\": \"flask\"\\n  }, \\n  \"1\": {\\n    \"mentee\": \"abhi\", \\n    \"status\": \"1\", \\n    \"topic\": \"flask\"\\n  }\\n}\\n'\n"
     ]
    }
   ],
   "source": [
    "print(r.status_code, r.reason, r.content)"
   ]
  },
  {
   "cell_type": "code",
   "execution_count": 86,
   "metadata": {},
   "outputs": [],
   "source": [
    "r= requests.get(\"http://127.0.0.1:5000/get_notifications\", data={\"email\":\"abhi\",\"password\":\"root\"})"
   ]
  },
  {
   "cell_type": "code",
   "execution_count": 87,
   "metadata": {},
   "outputs": [
    {
     "name": "stdout",
     "output_type": "stream",
     "text": [
      "200 OK b'{\\n  \"0\": {\\n    \"details\": \"flask\", \\n    \"sender\": \"abc\"\\n  }\\n}\\n'\n"
     ]
    }
   ],
   "source": [
    "print(r.status_code, r.reason, r.content)"
   ]
  },
  {
   "cell_type": "code",
   "execution_count": 88,
   "metadata": {},
   "outputs": [],
   "source": [
    "r= requests.get(\"http://127.0.0.1:5000/get_mentors\", data={\"email\":\"abhi\",\"password\":\"root\"})"
   ]
  },
  {
   "cell_type": "code",
   "execution_count": 89,
   "metadata": {},
   "outputs": [
    {
     "name": "stdout",
     "output_type": "stream",
     "text": [
      "200 OK b'{\\n  \"0\": {\\n    \"mentor\": \"abhi\", \\n    \"topic_name\": \"wert\"\\n  }, \\n  \"1\": {\\n    \"mentor\": \"abhi\", \\n    \"topic_name\": \"flask\"\\n  }\\n}\\n'\n"
     ]
    }
   ],
   "source": [
    "print(r.status_code, r.reason, r.content)"
   ]
  },
  {
   "cell_type": "code",
   "execution_count": 108,
   "metadata": {},
   "outputs": [],
   "source": [
    "r = requests.post(\"http://127.0.0.1:5000/add_request\", data={\"email\":\"abc\",\"password\":\"root\",\"topic_name\":\"flask\"})"
   ]
  },
  {
   "cell_type": "code",
   "execution_count": 109,
   "metadata": {},
   "outputs": [
    {
     "name": "stdout",
     "output_type": "stream",
     "text": [
      "200 OK b'True'\n"
     ]
    }
   ],
   "source": [
    "print(r.status_code, r.reason, r.content)"
   ]
  },
  {
   "cell_type": "code",
   "execution_count": 92,
   "metadata": {},
   "outputs": [],
   "source": [
    "r= requests.get(\"http://127.0.0.1:5000/get_requests\", data={\"email\":\"abc\",\"password\":\"root\"})"
   ]
  },
  {
   "cell_type": "code",
   "execution_count": 93,
   "metadata": {},
   "outputs": [
    {
     "name": "stdout",
     "output_type": "stream",
     "text": [
      "200 OK b'{\\n  \"0\": {\\n    \"requester\": \"abc\", \\n    \"topic\": \"dart\"\\n  }\\n}\\n'\n"
     ]
    }
   ],
   "source": [
    "print(r.status_code, r.reason, r.content)"
   ]
  },
  {
   "cell_type": "code",
   "execution_count": 112,
   "metadata": {},
   "outputs": [],
   "source": [
    "r = requests.post(\"http://127.0.0.1:5000/pick_request\", data={\"email\":\"abc\",\"password\":\"root\",\"topic_name\":\"flask\"})"
   ]
  },
  {
   "cell_type": "code",
   "execution_count": 113,
   "metadata": {},
   "outputs": [
    {
     "name": "stdout",
     "output_type": "stream",
     "text": [
      "200 OK b'added'\n"
     ]
    }
   ],
   "source": [
    "print(r.status_code, r.reason, r.content)"
   ]
  },
  {
   "cell_type": "code",
   "execution_count": 100,
   "metadata": {},
   "outputs": [],
   "source": [
    "r = requests.post(\"http://127.0.0.1:5000/change_status\", data={\"email\":\"abhi\",\"password\":\"root\",\"topic_name\":\"flask\",\"mentee\":\"abc\"})"
   ]
  },
  {
   "cell_type": "code",
   "execution_count": 101,
   "metadata": {},
   "outputs": [
    {
     "name": "stdout",
     "output_type": "stream",
     "text": [
      "200 OK b'added'\n"
     ]
    }
   ],
   "source": [
    "print(r.status_code, r.reason, r.content)"
   ]
  },
  {
   "cell_type": "code",
   "execution_count": null,
   "metadata": {},
   "outputs": [],
   "source": []
  }
 ],
 "metadata": {
  "kernelspec": {
   "display_name": "Python 3",
   "language": "python",
   "name": "python3"
  },
  "language_info": {
   "codemirror_mode": {
    "name": "ipython",
    "version": 3
   },
   "file_extension": ".py",
   "mimetype": "text/x-python",
   "name": "python",
   "nbconvert_exporter": "python",
   "pygments_lexer": "ipython3",
   "version": "3.7.3"
  }
 },
 "nbformat": 4,
 "nbformat_minor": 2
}
